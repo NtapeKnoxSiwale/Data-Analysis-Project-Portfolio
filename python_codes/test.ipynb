{
 "cells": [
  {
   "cell_type": "code",
   "execution_count": null,
   "metadata": {},
   "outputs": [],
   "source": [
    "# imports\n",
    "import pandas as pd\n",
    "import numpy as np\n",
    "from data_modifier import modify_data"
   ]
  },
  {
   "cell_type": "code",
   "execution_count": null,
   "metadata": {},
   "outputs": [],
   "source": [
    "# Define the column names\n",
    "columns = ['id', 'name', 'gender', 'age', 'country']\n",
    "\n",
    "# Define the number of rows to generate\n",
    "num_rows = 10\n",
    "\n",
    "# Generate random values for each column\n",
    "ids = list(range(num_rows))\n",
    "names = ['Name ' + str(i) for i in range(num_rows)]\n",
    "genders = np.random.choice(['M', 'F'], num_rows)\n",
    "ages = np.random.randint(1, 5, num_rows)\n",
    "countries = ['Country' + str(i) for i in range(num_rows)]\n",
    "\n",
    "# Combine the columns into a DataFrame\n",
    "data = list(zip(ids, names, genders, ages, countries))\n",
    "df = pd.DataFrame(data, columns=columns)\n",
    "\n",
    "# View the DataFrame\n",
    "df.head()\n"
   ]
  },
  {
   "cell_type": "code",
   "execution_count": null,
   "metadata": {},
   "outputs": [],
   "source": [
    "json_file='./json_file.json'\n",
    "data = df\n",
    "modify_data(json_file, df)"
   ]
  },
  {
   "cell_type": "code",
   "execution_count": null,
   "metadata": {},
   "outputs": [],
   "source": []
  }
 ],
 "metadata": {
  "kernelspec": {
   "display_name": "Python 3",
   "language": "python",
   "name": "python3"
  },
  "language_info": {
   "codemirror_mode": {
    "name": "ipython",
    "version": 3
   },
   "file_extension": ".py",
   "mimetype": "text/x-python",
   "name": "python",
   "nbconvert_exporter": "python",
   "pygments_lexer": "ipython3",
   "version": "3.11.2"
  },
  "orig_nbformat": 4
 },
 "nbformat": 4,
 "nbformat_minor": 2
}
